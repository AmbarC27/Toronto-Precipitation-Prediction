{
 "cells": [
  {
   "cell_type": "markdown",
   "id": "d0f3bb2b",
   "metadata": {},
   "source": [
    "# Toronto City Rainfall Forecast"
   ]
  },
  {
   "cell_type": "code",
   "execution_count": 1,
   "id": "16243fa7",
   "metadata": {},
   "outputs": [],
   "source": [
    "## Loading the csv file containing monthly precipitation from January 1939 to April 2022\n",
    "Toronto_Precipitation <- read.csv(\"Toronto_Precipitation.csv\")"
   ]
  },
  {
   "cell_type": "code",
   "execution_count": 2,
   "id": "82021683",
   "metadata": {},
   "outputs": [
    {
     "data": {
      "text/html": [
       "<table class=\"dataframe\">\n",
       "<caption>A data.frame: 6 × 2</caption>\n",
       "<thead>\n",
       "\t<tr><th></th><th scope=col>date</th><th scope=col>precipitation</th></tr>\n",
       "\t<tr><th></th><th scope=col>&lt;chr&gt;</th><th scope=col>&lt;dbl&gt;</th></tr>\n",
       "</thead>\n",
       "<tbody>\n",
       "\t<tr><th scope=row>1</th><td>2022-04-01</td><td>77.29</td></tr>\n",
       "\t<tr><th scope=row>2</th><td>2022-03-01</td><td>47.42</td></tr>\n",
       "\t<tr><th scope=row>3</th><td>2022-02-01</td><td>50.09</td></tr>\n",
       "\t<tr><th scope=row>4</th><td>2022-01-01</td><td>59.28</td></tr>\n",
       "\t<tr><th scope=row>5</th><td>2021-12-01</td><td>56.53</td></tr>\n",
       "\t<tr><th scope=row>6</th><td>2021-11-01</td><td>65.86</td></tr>\n",
       "</tbody>\n",
       "</table>\n"
      ],
      "text/latex": [
       "A data.frame: 6 × 2\n",
       "\\begin{tabular}{r|ll}\n",
       "  & date & precipitation\\\\\n",
       "  & <chr> & <dbl>\\\\\n",
       "\\hline\n",
       "\t1 & 2022-04-01 & 77.29\\\\\n",
       "\t2 & 2022-03-01 & 47.42\\\\\n",
       "\t3 & 2022-02-01 & 50.09\\\\\n",
       "\t4 & 2022-01-01 & 59.28\\\\\n",
       "\t5 & 2021-12-01 & 56.53\\\\\n",
       "\t6 & 2021-11-01 & 65.86\\\\\n",
       "\\end{tabular}\n"
      ],
      "text/markdown": [
       "\n",
       "A data.frame: 6 × 2\n",
       "\n",
       "| <!--/--> | date &lt;chr&gt; | precipitation &lt;dbl&gt; |\n",
       "|---|---|---|\n",
       "| 1 | 2022-04-01 | 77.29 |\n",
       "| 2 | 2022-03-01 | 47.42 |\n",
       "| 3 | 2022-02-01 | 50.09 |\n",
       "| 4 | 2022-01-01 | 59.28 |\n",
       "| 5 | 2021-12-01 | 56.53 |\n",
       "| 6 | 2021-11-01 | 65.86 |\n",
       "\n"
      ],
      "text/plain": [
       "  date       precipitation\n",
       "1 2022-04-01 77.29        \n",
       "2 2022-03-01 47.42        \n",
       "3 2022-02-01 50.09        \n",
       "4 2022-01-01 59.28        \n",
       "5 2021-12-01 56.53        \n",
       "6 2021-11-01 65.86        "
      ]
     },
     "metadata": {},
     "output_type": "display_data"
    }
   ],
   "source": [
    "head(Toronto_Precipitation)"
   ]
  },
  {
   "cell_type": "code",
   "execution_count": 4,
   "id": "4cb08df1",
   "metadata": {},
   "outputs": [
    {
     "data": {
      "text/html": [
       "<table class=\"dataframe\">\n",
       "<caption>A data.frame: 6 × 2</caption>\n",
       "<thead>\n",
       "\t<tr><th></th><th scope=col>date</th><th scope=col>precipitation</th></tr>\n",
       "\t<tr><th></th><th scope=col>&lt;chr&gt;</th><th scope=col>&lt;dbl&gt;</th></tr>\n",
       "</thead>\n",
       "<tbody>\n",
       "\t<tr><th scope=row>995</th><td>1939-06-01</td><td>42.1</td></tr>\n",
       "\t<tr><th scope=row>996</th><td>1939-05-01</td><td>72.3</td></tr>\n",
       "\t<tr><th scope=row>997</th><td>1939-04-01</td><td>33.3</td></tr>\n",
       "\t<tr><th scope=row>998</th><td>1939-03-01</td><td>41.7</td></tr>\n",
       "\t<tr><th scope=row>999</th><td>1939-02-01</td><td>76.6</td></tr>\n",
       "\t<tr><th scope=row>1000</th><td>1939-01-01</td><td>40.4</td></tr>\n",
       "</tbody>\n",
       "</table>\n"
      ],
      "text/latex": [
       "A data.frame: 6 × 2\n",
       "\\begin{tabular}{r|ll}\n",
       "  & date & precipitation\\\\\n",
       "  & <chr> & <dbl>\\\\\n",
       "\\hline\n",
       "\t995 & 1939-06-01 & 42.1\\\\\n",
       "\t996 & 1939-05-01 & 72.3\\\\\n",
       "\t997 & 1939-04-01 & 33.3\\\\\n",
       "\t998 & 1939-03-01 & 41.7\\\\\n",
       "\t999 & 1939-02-01 & 76.6\\\\\n",
       "\t1000 & 1939-01-01 & 40.4\\\\\n",
       "\\end{tabular}\n"
      ],
      "text/markdown": [
       "\n",
       "A data.frame: 6 × 2\n",
       "\n",
       "| <!--/--> | date &lt;chr&gt; | precipitation &lt;dbl&gt; |\n",
       "|---|---|---|\n",
       "| 995 | 1939-06-01 | 42.1 |\n",
       "| 996 | 1939-05-01 | 72.3 |\n",
       "| 997 | 1939-04-01 | 33.3 |\n",
       "| 998 | 1939-03-01 | 41.7 |\n",
       "| 999 | 1939-02-01 | 76.6 |\n",
       "| 1000 | 1939-01-01 | 40.4 |\n",
       "\n"
      ],
      "text/plain": [
       "     date       precipitation\n",
       "995  1939-06-01 42.1         \n",
       "996  1939-05-01 72.3         \n",
       "997  1939-04-01 33.3         \n",
       "998  1939-03-01 41.7         \n",
       "999  1939-02-01 76.6         \n",
       "1000 1939-01-01 40.4         "
      ]
     },
     "metadata": {},
     "output_type": "display_data"
    }
   ],
   "source": [
    "tail(Toronto_Precipitation)"
   ]
  },
  {
   "cell_type": "code",
   "execution_count": 5,
   "id": "2519461b",
   "metadata": {},
   "outputs": [],
   "source": [
    "## The data is in descending chronological order, so we need to reverse it to use as conventional time series data\n",
    "Toronto_Precipitation$date <- rev(Toronto_Precipitation$date)\n",
    "Toronto_Precipitation$precipitation <- rev(Toronto_Precipitation$precipitation)"
   ]
  },
  {
   "cell_type": "code",
   "execution_count": 6,
   "id": "0e16e5aa",
   "metadata": {},
   "outputs": [
    {
     "data": {
      "text/html": [
       "<table class=\"dataframe\">\n",
       "<caption>A data.frame: 6 × 2</caption>\n",
       "<thead>\n",
       "\t<tr><th></th><th scope=col>date</th><th scope=col>precipitation</th></tr>\n",
       "\t<tr><th></th><th scope=col>&lt;chr&gt;</th><th scope=col>&lt;dbl&gt;</th></tr>\n",
       "</thead>\n",
       "<tbody>\n",
       "\t<tr><th scope=row>1</th><td>1939-01-01</td><td>40.4</td></tr>\n",
       "\t<tr><th scope=row>2</th><td>1939-02-01</td><td>76.6</td></tr>\n",
       "\t<tr><th scope=row>3</th><td>1939-03-01</td><td>41.7</td></tr>\n",
       "\t<tr><th scope=row>4</th><td>1939-04-01</td><td>33.3</td></tr>\n",
       "\t<tr><th scope=row>5</th><td>1939-05-01</td><td>72.3</td></tr>\n",
       "\t<tr><th scope=row>6</th><td>1939-06-01</td><td>42.1</td></tr>\n",
       "</tbody>\n",
       "</table>\n"
      ],
      "text/latex": [
       "A data.frame: 6 × 2\n",
       "\\begin{tabular}{r|ll}\n",
       "  & date & precipitation\\\\\n",
       "  & <chr> & <dbl>\\\\\n",
       "\\hline\n",
       "\t1 & 1939-01-01 & 40.4\\\\\n",
       "\t2 & 1939-02-01 & 76.6\\\\\n",
       "\t3 & 1939-03-01 & 41.7\\\\\n",
       "\t4 & 1939-04-01 & 33.3\\\\\n",
       "\t5 & 1939-05-01 & 72.3\\\\\n",
       "\t6 & 1939-06-01 & 42.1\\\\\n",
       "\\end{tabular}\n"
      ],
      "text/markdown": [
       "\n",
       "A data.frame: 6 × 2\n",
       "\n",
       "| <!--/--> | date &lt;chr&gt; | precipitation &lt;dbl&gt; |\n",
       "|---|---|---|\n",
       "| 1 | 1939-01-01 | 40.4 |\n",
       "| 2 | 1939-02-01 | 76.6 |\n",
       "| 3 | 1939-03-01 | 41.7 |\n",
       "| 4 | 1939-04-01 | 33.3 |\n",
       "| 5 | 1939-05-01 | 72.3 |\n",
       "| 6 | 1939-06-01 | 42.1 |\n",
       "\n"
      ],
      "text/plain": [
       "  date       precipitation\n",
       "1 1939-01-01 40.4         \n",
       "2 1939-02-01 76.6         \n",
       "3 1939-03-01 41.7         \n",
       "4 1939-04-01 33.3         \n",
       "5 1939-05-01 72.3         \n",
       "6 1939-06-01 42.1         "
      ]
     },
     "metadata": {},
     "output_type": "display_data"
    }
   ],
   "source": [
    "head(Toronto_Precipitation)"
   ]
  },
  {
   "cell_type": "code",
   "execution_count": 7,
   "id": "4a0b353b",
   "metadata": {},
   "outputs": [
    {
     "data": {
      "text/html": [
       "<table class=\"dataframe\">\n",
       "<caption>A data.frame: 6 × 2</caption>\n",
       "<thead>\n",
       "\t<tr><th></th><th scope=col>date</th><th scope=col>precipitation</th></tr>\n",
       "\t<tr><th></th><th scope=col>&lt;chr&gt;</th><th scope=col>&lt;dbl&gt;</th></tr>\n",
       "</thead>\n",
       "<tbody>\n",
       "\t<tr><th scope=row>995</th><td>2021-11-01</td><td>65.86</td></tr>\n",
       "\t<tr><th scope=row>996</th><td>2021-12-01</td><td>56.53</td></tr>\n",
       "\t<tr><th scope=row>997</th><td>2022-01-01</td><td>59.28</td></tr>\n",
       "\t<tr><th scope=row>998</th><td>2022-02-01</td><td>50.09</td></tr>\n",
       "\t<tr><th scope=row>999</th><td>2022-03-01</td><td>47.42</td></tr>\n",
       "\t<tr><th scope=row>1000</th><td>2022-04-01</td><td>77.29</td></tr>\n",
       "</tbody>\n",
       "</table>\n"
      ],
      "text/latex": [
       "A data.frame: 6 × 2\n",
       "\\begin{tabular}{r|ll}\n",
       "  & date & precipitation\\\\\n",
       "  & <chr> & <dbl>\\\\\n",
       "\\hline\n",
       "\t995 & 2021-11-01 & 65.86\\\\\n",
       "\t996 & 2021-12-01 & 56.53\\\\\n",
       "\t997 & 2022-01-01 & 59.28\\\\\n",
       "\t998 & 2022-02-01 & 50.09\\\\\n",
       "\t999 & 2022-03-01 & 47.42\\\\\n",
       "\t1000 & 2022-04-01 & 77.29\\\\\n",
       "\\end{tabular}\n"
      ],
      "text/markdown": [
       "\n",
       "A data.frame: 6 × 2\n",
       "\n",
       "| <!--/--> | date &lt;chr&gt; | precipitation &lt;dbl&gt; |\n",
       "|---|---|---|\n",
       "| 995 | 2021-11-01 | 65.86 |\n",
       "| 996 | 2021-12-01 | 56.53 |\n",
       "| 997 | 2022-01-01 | 59.28 |\n",
       "| 998 | 2022-02-01 | 50.09 |\n",
       "| 999 | 2022-03-01 | 47.42 |\n",
       "| 1000 | 2022-04-01 | 77.29 |\n",
       "\n"
      ],
      "text/plain": [
       "     date       precipitation\n",
       "995  2021-11-01 65.86        \n",
       "996  2021-12-01 56.53        \n",
       "997  2022-01-01 59.28        \n",
       "998  2022-02-01 50.09        \n",
       "999  2022-03-01 47.42        \n",
       "1000 2022-04-01 77.29        "
      ]
     },
     "metadata": {},
     "output_type": "display_data"
    }
   ],
   "source": [
    "tail(Toronto_Precipitation)"
   ]
  },
  {
   "cell_type": "code",
   "execution_count": 8,
   "id": "93886732",
   "metadata": {},
   "outputs": [],
   "source": [
    "## Converting the data into time series\n",
    "precipitation <- ts(Toronto_Precipitation[2],start=c(1939,1),frequency = 12)"
   ]
  },
  {
   "cell_type": "code",
   "execution_count": 9,
   "id": "449e6a29",
   "metadata": {},
   "outputs": [
    {
     "data": {
      "text/html": [
       "<table class=\"dataframe\">\n",
       "<caption>A matrix: 6 × 1 of type dbl</caption>\n",
       "<thead>\n",
       "\t<tr><th scope=col>precipitation</th></tr>\n",
       "</thead>\n",
       "<tbody>\n",
       "\t<tr><td>40.4</td></tr>\n",
       "\t<tr><td>76.6</td></tr>\n",
       "\t<tr><td>41.7</td></tr>\n",
       "\t<tr><td>33.3</td></tr>\n",
       "\t<tr><td>72.3</td></tr>\n",
       "\t<tr><td>42.1</td></tr>\n",
       "</tbody>\n",
       "</table>\n"
      ],
      "text/latex": [
       "A matrix: 6 × 1 of type dbl\n",
       "\\begin{tabular}{l}\n",
       " precipitation\\\\\n",
       "\\hline\n",
       "\t 40.4\\\\\n",
       "\t 76.6\\\\\n",
       "\t 41.7\\\\\n",
       "\t 33.3\\\\\n",
       "\t 72.3\\\\\n",
       "\t 42.1\\\\\n",
       "\\end{tabular}\n"
      ],
      "text/markdown": [
       "\n",
       "A matrix: 6 × 1 of type dbl\n",
       "\n",
       "| precipitation |\n",
       "|---|\n",
       "| 40.4 |\n",
       "| 76.6 |\n",
       "| 41.7 |\n",
       "| 33.3 |\n",
       "| 72.3 |\n",
       "| 42.1 |\n",
       "\n"
      ],
      "text/plain": [
       "     precipitation\n",
       "[1,] 40.4         \n",
       "[2,] 76.6         \n",
       "[3,] 41.7         \n",
       "[4,] 33.3         \n",
       "[5,] 72.3         \n",
       "[6,] 42.1         "
      ]
     },
     "metadata": {},
     "output_type": "display_data"
    }
   ],
   "source": [
    "head(precipitation)"
   ]
  },
  {
   "cell_type": "code",
   "execution_count": 10,
   "id": "82ad7f6c",
   "metadata": {},
   "outputs": [],
   "source": [
    "prec_1939_to_2015 <- ts(subset(Toronto_Precipitation, date <= '2015-12-31' ),start=c(1939,1),frequency = 12)"
   ]
  },
  {
   "cell_type": "code",
   "execution_count": 13,
   "id": "6a8ebbff",
   "metadata": {},
   "outputs": [
    {
     "data": {
      "text/html": [
       "<table class=\"dataframe\">\n",
       "<caption>A matrix: 6 × 2 of type dbl</caption>\n",
       "<thead>\n",
       "\t<tr><th scope=col>date</th><th scope=col>precipitation</th></tr>\n",
       "</thead>\n",
       "<tbody>\n",
       "\t<tr><td>1</td><td>40.4</td></tr>\n",
       "\t<tr><td>2</td><td>76.6</td></tr>\n",
       "\t<tr><td>3</td><td>41.7</td></tr>\n",
       "\t<tr><td>4</td><td>33.3</td></tr>\n",
       "\t<tr><td>5</td><td>72.3</td></tr>\n",
       "\t<tr><td>6</td><td>42.1</td></tr>\n",
       "</tbody>\n",
       "</table>\n"
      ],
      "text/latex": [
       "A matrix: 6 × 2 of type dbl\n",
       "\\begin{tabular}{ll}\n",
       " date & precipitation\\\\\n",
       "\\hline\n",
       "\t 1 & 40.4\\\\\n",
       "\t 2 & 76.6\\\\\n",
       "\t 3 & 41.7\\\\\n",
       "\t 4 & 33.3\\\\\n",
       "\t 5 & 72.3\\\\\n",
       "\t 6 & 42.1\\\\\n",
       "\\end{tabular}\n"
      ],
      "text/markdown": [
       "\n",
       "A matrix: 6 × 2 of type dbl\n",
       "\n",
       "| date | precipitation |\n",
       "|---|---|\n",
       "| 1 | 40.4 |\n",
       "| 2 | 76.6 |\n",
       "| 3 | 41.7 |\n",
       "| 4 | 33.3 |\n",
       "| 5 | 72.3 |\n",
       "| 6 | 42.1 |\n",
       "\n"
      ],
      "text/plain": [
       "     date precipitation\n",
       "[1,] 1    40.4         \n",
       "[2,] 2    76.6         \n",
       "[3,] 3    41.7         \n",
       "[4,] 4    33.3         \n",
       "[5,] 5    72.3         \n",
       "[6,] 6    42.1         "
      ]
     },
     "metadata": {},
     "output_type": "display_data"
    }
   ],
   "source": [
    "head(prec_1939_to_2015)"
   ]
  },
  {
   "cell_type": "code",
   "execution_count": 14,
   "id": "2321155d",
   "metadata": {},
   "outputs": [],
   "source": [
    "## We only need the second row\n",
    "prec_1939_to_2015 <- prec_1939_to_2015[,2]"
   ]
  },
  {
   "cell_type": "markdown",
   "id": "ce6eb080",
   "metadata": {},
   "source": [
    "## ARIMA Model"
   ]
  },
  {
   "cell_type": "code",
   "execution_count": 16,
   "id": "2f08a8f3",
   "metadata": {},
   "outputs": [
    {
     "data": {
      "image/png": "[encoded data removed]",
      "text/plain": [
       "plot without title"
      ]
     },
     "metadata": {
      "image/png": {
       "height": 420,
       "width": 420
      }
     },
     "output_type": "display_data"
    }
   ],
   "source": [
    "plot(prec_1939_to_2015)"
   ]
  },
  {
   "cell_type": "code",
   "execution_count": 17,
   "id": "c5a7e0f1",
   "metadata": {
    "scrolled": false
   },
   "outputs": [
    {
     "data": {
      "image/png": "[encoded data removed]",
      "text/plain": [
       "plot without title"
      ]
     },
     "metadata": {
      "image/png": {
       "height": 420,
       "width": 420
      }
     },
     "output_type": "display_data"
    }
   ],
   "source": [
    "## We need the data to be centred about zero\n",
    "plot(diff(prec_1939_to_2015))"
   ]
  },
  {
   "cell_type": "code",
   "execution_count": 18,
   "id": "001328ca",
   "metadata": {},
   "outputs": [
    {
     "data": {
      "image/png": "[encoded data removed]",
      "text/plain": [
       "Plot with title \"Series  prec_1939_to_2015\""
      ]
     },
     "metadata": {
      "image/png": {
       "height": 420,
       "width": 420
      }
     },
     "output_type": "display_data"
    },
    {
     "data": {
      "image/png": "[encoded data removed]",
      "text/plain": [
       "Plot with title \"Series  prec_1939_to_2015\""
      ]
     },
     "metadata": {
      "image/png": {
       "height": 420,
       "width": 420
      }
     },
     "output_type": "display_data"
    }
   ],
   "source": [
    "## In the ARIMA model, we obtain the q value the acf function and p value by the pacf function\n",
    "## d value is 1 as we only need to use the difference function once to centre the data around zero\n",
    "acf(prec_1939_to_2015)\n",
    "pacf(prec_1939_to_2015)"
   ]
  },
  {
   "cell_type": "code",
   "execution_count": 19,
   "id": "61fba9aa",
   "metadata": {},
   "outputs": [],
   "source": [
    "## p = 1 and q = 2\n",
    "fit <- arima(prec_1939_to_2015,c(1,1,2),seasonal=list(order=c(1,1,2),period=12))"
   ]
  },
  {
   "cell_type": "code",
   "execution_count": 21,
   "id": "3c396be8",
   "metadata": {},
   "outputs": [],
   "source": [
    "## Creating the forecasted values from 2016 to 2021 using the predict function\n",
    "prediction <- predict(fit, n.ahead= 12*6)"
   ]
  },
  {
   "cell_type": "code",
   "execution_count": 29,
   "id": "080ea0bb",
   "metadata": {},
   "outputs": [
    {
     "data": {
      "image/png": "[encoded data removed]",
      "text/plain": [
       "plot without title"
      ]
     },
     "metadata": {
      "image/png": {
       "height": 420,
       "width": 420
      }
     },
     "output_type": "display_data"
    }
   ],
   "source": [
    "ts.plot(prec_1939_to_2015,prediction$pred,lty=c(1,3),col=c(1,2),ylab='Precipitation/mm')\n",
    "legend('bottomright',bty=\"n\",c(\"Actual precipitation\",\"Forecasted precipitation\"),lwd=2,col=c(1,2),lty=c(1,2))"
   ]
  },
  {
   "cell_type": "code",
   "execution_count": 28,
   "id": "1b7e6db8",
   "metadata": {},
   "outputs": [
    {
     "data": {
      "image/png": "[encoded data removed]",
      "text/plain": [
       "plot without title"
      ]
     },
     "metadata": {
      "image/png": {
       "height": 420,
       "width": 420
      }
     },
     "output_type": "display_data"
    }
   ],
   "source": [
    "## Getting a closer view\n",
    "ts.plot(prec_1939_to_2015,prediction$pred,lty=c(1,3),col=c(1,2),ylab='Precipitation/mm',xlim=c(2012,2022))\n",
    "legend('bottomleft',bty=\"n\",c(\"Actual precipitation\",\"Forecasted precipitation\"),lwd=2,col=c(1,2),lty=c(1,2))"
   ]
  },
  {
   "cell_type": "markdown",
   "id": "ba3b2407",
   "metadata": {},
   "source": [
    "## Checking accuracy using ARIMA model"
   ]
  },
  {
   "cell_type": "code",
   "execution_count": 30,
   "id": "e1ffec69",
   "metadata": {},
   "outputs": [
    {
     "data": {
      "text/html": [
       "<table class=\"dataframe\">\n",
       "<caption>A matrix: 6 × 2 of type dbl</caption>\n",
       "<thead>\n",
       "\t<tr><th scope=col>date</th><th scope=col>precipitation</th></tr>\n",
       "</thead>\n",
       "<tbody>\n",
       "\t<tr><td>1</td><td>52.64</td></tr>\n",
       "\t<tr><td>2</td><td>46.39</td></tr>\n",
       "\t<tr><td>3</td><td>45.33</td></tr>\n",
       "\t<tr><td>4</td><td>72.52</td></tr>\n",
       "\t<tr><td>5</td><td>74.16</td></tr>\n",
       "\t<tr><td>6</td><td>77.85</td></tr>\n",
       "</tbody>\n",
       "</table>\n"
      ],
      "text/latex": [
       "A matrix: 6 × 2 of type dbl\n",
       "\\begin{tabular}{ll}\n",
       " date & precipitation\\\\\n",
       "\\hline\n",
       "\t 1 & 52.64\\\\\n",
       "\t 2 & 46.39\\\\\n",
       "\t 3 & 45.33\\\\\n",
       "\t 4 & 72.52\\\\\n",
       "\t 5 & 74.16\\\\\n",
       "\t 6 & 77.85\\\\\n",
       "\\end{tabular}\n"
      ],
      "text/markdown": [
       "\n",
       "A matrix: 6 × 2 of type dbl\n",
       "\n",
       "| date | precipitation |\n",
       "|---|---|\n",
       "| 1 | 52.64 |\n",
       "| 2 | 46.39 |\n",
       "| 3 | 45.33 |\n",
       "| 4 | 72.52 |\n",
       "| 5 | 74.16 |\n",
       "| 6 | 77.85 |\n",
       "\n"
      ],
      "text/plain": [
       "     date precipitation\n",
       "[1,] 1    52.64        \n",
       "[2,] 2    46.39        \n",
       "[3,] 3    45.33        \n",
       "[4,] 4    72.52        \n",
       "[5,] 5    74.16        \n",
       "[6,] 6    77.85        "
      ]
     },
     "metadata": {},
     "output_type": "display_data"
    }
   ],
   "source": [
    "## Extracting data from 2016 to 2021\n",
    "prec_2016_to_2021 <- ts(subset(Toronto_Precipitation,date >= '2016-01-01' & date <= '2021-12-31'),start=c(2016,1),\n",
    "                        frequency = 12)\n",
    "head(prec_2016_to_2021)"
   ]
  },
  {
   "cell_type": "code",
   "execution_count": 31,
   "id": "b6ed99b7",
   "metadata": {},
   "outputs": [],
   "source": [
    "## We only need the second column for analysis\n",
    "prec_2016_to_2021 <- prec_2016_to_2021[,2]"
   ]
  },
  {
   "cell_type": "code",
   "execution_count": 32,
   "id": "81f23bae",
   "metadata": {},
   "outputs": [],
   "source": [
    "error_arima <- abs(prediction$pred - prec_2016_to_2021)"
   ]
  },
  {
   "cell_type": "code",
   "execution_count": 33,
   "id": "5dad8c32",
   "metadata": {},
   "outputs": [],
   "source": [
    "error_percentage_arima <- 100*(error_arima/prec_2016_to_2021)"
   ]
  },
  {
   "cell_type": "code",
   "execution_count": 34,
   "id": "18be3510",
   "metadata": {},
   "outputs": [],
   "source": [
    "accuracy_arima <- 100 - mean(error_percentage_arima)"
   ]
  },
  {
   "cell_type": "code",
   "execution_count": 35,
   "id": "c7b8269e",
   "metadata": {},
   "outputs": [
    {
     "data": {
      "text/html": [
       "95.5075811102056"
      ],
      "text/latex": [
       "95.5075811102056"
      ],
      "text/markdown": [
       "95.5075811102056"
      ],
      "text/plain": [
       "[1] 95.50758"
      ]
     },
     "metadata": {},
     "output_type": "display_data"
    }
   ],
   "source": [
    "accuracy_arima"
   ]
  },
  {
   "cell_type": "code",
   "execution_count": 36,
   "id": "b68802d3",
   "metadata": {},
   "outputs": [],
   "source": [
    "## Our forecast using the ARIMA model is 95.5% accurate"
   ]
  },
  {
   "cell_type": "markdown",
   "id": "e606044f",
   "metadata": {},
   "source": [
    "## Holt-Winters Model"
   ]
  },
  {
   "cell_type": "code",
   "execution_count": 37,
   "id": "02a36382",
   "metadata": {},
   "outputs": [
    {
     "data": {
      "image/png": "[encoded data removed]",
      "text/plain": [
       "plot without title"
      ]
     },
     "metadata": {
      "image/png": {
       "height": 420,
       "width": 420
      }
     },
     "output_type": "display_data"
    }
   ],
   "source": [
    "plot(precipitation)"
   ]
  },
  {
   "cell_type": "code",
   "execution_count": 38,
   "id": "dbfc8d6b",
   "metadata": {},
   "outputs": [],
   "source": [
    "## Peak sizes are roughly equal over time so it is an additive time series model\n",
    "model_holtwinters <- HoltWinters(prec_1939_to_2015,seasonal = 'additive')"
   ]
  },
  {
   "cell_type": "code",
   "execution_count": 39,
   "id": "84f81330",
   "metadata": {},
   "outputs": [],
   "source": [
    "## Creating the forecasted values from 2016 to 2021 using the predict function\n",
    "future_holtwinters <- predict(model_holtwinters,n.ahead = 12*6)"
   ]
  },
  {
   "cell_type": "code",
   "execution_count": 43,
   "id": "9926e440",
   "metadata": {},
   "outputs": [
    {
     "data": {
      "image/png": "[encoded data removed]",
      "text/plain": [
       "Plot with title \"Holt-Winters filtering\""
      ]
     },
     "metadata": {
      "image/png": {
       "height": 420,
       "width": 420
      }
     },
     "output_type": "display_data"
    }
   ],
   "source": [
    "plot(model_holtwinters,future_holtwinters)\n",
    "legend('bottomright',bty=\"n\",c(\"Actual precipitation\",\"Forecasted precipitation\"),lwd=2,col=c(1,2))"
   ]
  },
  {
   "cell_type": "code",
   "execution_count": 45,
   "id": "07604408",
   "metadata": {},
   "outputs": [
    {
     "data": {
      "image/png": "[encoded data removed]",
      "text/plain": [
       "Plot with title \"Holt-Winters filtering\""
      ]
     },
     "metadata": {
      "image/png": {
       "height": 420,
       "width": 420
      }
     },
     "output_type": "display_data"
    }
   ],
   "source": [
    "## Getting a closer view\n",
    "plot(model_holtwinters,future_holtwinters,xlim=c(2010,2022))\n",
    "legend('bottomleft',bty=\"n\",c(\"Actual precipitation\",\"Precipitation according to model\"),lwd=2,col=c(1,2))"
   ]
  },
  {
   "cell_type": "markdown",
   "id": "9c5e9e93",
   "metadata": {},
   "source": [
    "## Checking accuracy of the Holt-Winters model"
   ]
  },
  {
   "cell_type": "code",
   "execution_count": 46,
   "id": "7fcc0686",
   "metadata": {},
   "outputs": [],
   "source": [
    "future_holtwinters <- predict(model_holtwinters,n.ahead = 12*6)"
   ]
  },
  {
   "cell_type": "code",
   "execution_count": 47,
   "id": "2ccfa27a",
   "metadata": {},
   "outputs": [
    {
     "data": {
      "text/html": [
       "<table class=\"dataframe\">\n",
       "<caption>A matrix: 6 × 1 of type dbl</caption>\n",
       "<thead>\n",
       "\t<tr><th scope=col>fit</th></tr>\n",
       "</thead>\n",
       "<tbody>\n",
       "\t<tr><td>54.21332</td></tr>\n",
       "\t<tr><td>48.19764</td></tr>\n",
       "\t<tr><td>47.55729</td></tr>\n",
       "\t<tr><td>71.06825</td></tr>\n",
       "\t<tr><td>74.68278</td></tr>\n",
       "\t<tr><td>73.81548</td></tr>\n",
       "</tbody>\n",
       "</table>\n"
      ],
      "text/latex": [
       "A matrix: 6 × 1 of type dbl\n",
       "\\begin{tabular}{l}\n",
       " fit\\\\\n",
       "\\hline\n",
       "\t 54.21332\\\\\n",
       "\t 48.19764\\\\\n",
       "\t 47.55729\\\\\n",
       "\t 71.06825\\\\\n",
       "\t 74.68278\\\\\n",
       "\t 73.81548\\\\\n",
       "\\end{tabular}\n"
      ],
      "text/markdown": [
       "\n",
       "A matrix: 6 × 1 of type dbl\n",
       "\n",
       "| fit |\n",
       "|---|\n",
       "| 54.21332 |\n",
       "| 48.19764 |\n",
       "| 47.55729 |\n",
       "| 71.06825 |\n",
       "| 74.68278 |\n",
       "| 73.81548 |\n",
       "\n"
      ],
      "text/plain": [
       "     fit     \n",
       "[1,] 54.21332\n",
       "[2,] 48.19764\n",
       "[3,] 47.55729\n",
       "[4,] 71.06825\n",
       "[5,] 74.68278\n",
       "[6,] 73.81548"
      ]
     },
     "metadata": {},
     "output_type": "display_data"
    }
   ],
   "source": [
    "head(future_holtwinters)"
   ]
  },
  {
   "cell_type": "code",
   "execution_count": 48,
   "id": "9ca8ba77",
   "metadata": {},
   "outputs": [],
   "source": [
    "future_holtwinters <- future_holtwinters[,1]"
   ]
  },
  {
   "cell_type": "code",
   "execution_count": 49,
   "id": "e4bb1e60",
   "metadata": {},
   "outputs": [],
   "source": [
    "## From above, prec_2016_to_2021 is the actual monthly precipitation from 2016 to 2021\n",
    "error_holtwinters <- abs(future_holtwinters - prec_2016_to_2021)"
   ]
  },
  {
   "cell_type": "code",
   "execution_count": 50,
   "id": "d610f030",
   "metadata": {},
   "outputs": [],
   "source": [
    "error_percentage_holtwinters <- 100*(error_holtwinters/prec_2016_to_2021)"
   ]
  },
  {
   "cell_type": "code",
   "execution_count": 51,
   "id": "a36a5f9d",
   "metadata": {},
   "outputs": [],
   "source": [
    "accuracy_holtwinters <- 100 - mean(error_holtwinters)"
   ]
  },
  {
   "cell_type": "code",
   "execution_count": 52,
   "id": "280a3818",
   "metadata": {},
   "outputs": [
    {
     "data": {
      "text/html": [
       "96.9390721801189"
      ],
      "text/latex": [
       "96.9390721801189"
      ],
      "text/markdown": [
       "96.9390721801189"
      ],
      "text/plain": [
       "[1] 96.93907"
      ]
     },
     "metadata": {},
     "output_type": "display_data"
    }
   ],
   "source": [
    "accuracy_holtwinters"
   ]
  },
  {
   "cell_type": "code",
   "execution_count": 53,
   "id": "bbf5d6bc",
   "metadata": {},
   "outputs": [],
   "source": [
    "## Our forecast using the Holt-Winters model is 96.9% accurate"
   ]
  }
 ],
 "metadata": {
  "kernelspec": {
   "display_name": "R",
   "language": "R",
   "name": "ir"
  },
  "language_info": {
   "codemirror_mode": "r",
   "file_extension": ".r",
   "mimetype": "text/x-r-source",
   "name": "R",
   "pygments_lexer": "r",
   "version": "4.1.2"
  }
 },
 "nbformat": 4,
 "nbformat_minor": 5
}
